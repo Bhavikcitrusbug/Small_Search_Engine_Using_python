{
 "cells": [
  {
   "cell_type": "code",
   "execution_count": 1,
   "metadata": {},
   "outputs": [],
   "source": [
    "from difflib import get_close_matches\n",
    "import json\n",
    "data = json.load(open(\"data.json\")) "
   ]
  },
  {
   "cell_type": "code",
   "execution_count": 17,
   "metadata": {},
   "outputs": [
    {
     "name": "stdout",
     "output_type": "stream",
     "text": [
      "Enter Your Word : rainn\n",
      "Did You Mean rain Instead? Enter Y if yes ,or N for no!y\n",
      "Precipitation in the form of liquid water drops with diameters greater than 0.5 millimetres.\n",
      "To fall from the clouds in drops of water.\n"
     ]
    }
   ],
   "source": [
    "def defination(word):\n",
    "    word = word.lower()\n",
    "    if word in data:\n",
    "        return data[word]\n",
    "    elif get_close_matches(word,data.keys()):\n",
    "        yn = input(\"Did You Mean %s Instead? Enter Y if yes ,or N for no! \"%get_close_matches(word,data.keys())[0])\n",
    "        if yn.casefold() == 'Y'.casefold():\n",
    "            return data[get_close_matches(word,data.keys())[0]]\n",
    "        elif yn.casefold() == 'N'.casefold():\n",
    "            return \"The Word Doesn't Exist Please Double Check !\"\n",
    "        else:\n",
    "            return \"Sorry!,We Didn't Understand Your Queries\"\n",
    "    else:\n",
    "        return \"The Word Doesn't Exist Please Double Check !\"\n",
    "user_input = input(\"Enter Your Word : \")\n",
    "output = defination(user_input)\n",
    "if type(output) == list:\n",
    "    for i in output:\n",
    "        print(i)\n",
    "else:\n",
    "    print(output)\n",
    "    "
   ]
  },
  {
   "cell_type": "code",
   "execution_count": null,
   "metadata": {},
   "outputs": [],
   "source": []
  }
 ],
 "metadata": {
  "kernelspec": {
   "display_name": "Python 3",
   "language": "python",
   "name": "python3"
  },
  "language_info": {
   "codemirror_mode": {
    "name": "ipython",
    "version": 3
   },
   "file_extension": ".py",
   "mimetype": "text/x-python",
   "name": "python",
   "nbconvert_exporter": "python",
   "pygments_lexer": "ipython3",
   "version": "3.7.3"
  }
 },
 "nbformat": 4,
 "nbformat_minor": 2
}
